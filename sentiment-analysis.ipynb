{
 "cells": [
  {
   "cell_type": "code",
   "execution_count": 1,
   "metadata": {},
   "outputs": [],
   "source": [
    "import requests\n",
    "from bs4 import BeautifulSoup\n",
    "import csv\n",
    "import pandas as pd\n",
    "import numpy as np\n",
    "import praw\n",
    "import nltk\n",
    "from nltk.sentiment.vader import SentimentIntensityAnalyzer as SIA\n",
    "import seaborn as sns"
   ]
  },
  {
   "cell_type": "code",
   "execution_count": 2,
   "metadata": {},
   "outputs": [],
   "source": [
    "def biggest_subreddits(pages=2):\n",
    "    most_subscribed_subreddits=[]\n",
    "    \n",
    "    redditlist_pages = []\n",
    "\n",
    "    for i in range(1, pages):\n",
    "        url = 'http://redditlist.com/?page=' + str(i) + ''\n",
    "        redditlist_pages.append(url)\n",
    "        \n",
    "    print(redditlist_pages)\n",
    "        \n",
    "    for item in redditlist_pages:\n",
    "        \n",
    "        page = requests.get(item)\n",
    "        soup = BeautifulSoup(page.text, 'html.parser')\n",
    "        \n",
    "        subreddits = soup.find_all(class_='listing-item')\n",
    "        \n",
    "        subreddit_names = []\n",
    "\n",
    "        for subreddit in subreddits:\n",
    "            subreddit_names.append(subreddit.attrs['data-target-subreddit'])\n",
    "        \n",
    "        #picks the values from the middle list containing the most subscribers. Not recent activity or Growth (24Hrs) \n",
    "        most_subscribed_subreddits = most_subscribed_subreddits + subreddit_names[125:250]\n",
    "        \n",
    "        \n",
    "    return most_subscribed_subreddits\n",
    "\n",
    "def subreddits_to_csv(subreddits, name):\n",
    "    f = open(name, 'w', newline='')\n",
    "    \n",
    "    writer = csv.writer(f)\n",
    "    writer.writerow(['subreddit'])\n",
    "    \n",
    "    for subreddit in subreddits:\n",
    "        writer.writerow([subreddit])\n",
    "        \n",
    "    f.close()"
   ]
  },
  {
   "cell_type": "code",
   "execution_count": 3,
   "metadata": {},
   "outputs": [
    {
     "name": "stdout",
     "output_type": "stream",
     "text": [
      "['http://redditlist.com/?page=1', 'http://redditlist.com/?page=2', 'http://redditlist.com/?page=3', 'http://redditlist.com/?page=4', 'http://redditlist.com/?page=5', 'http://redditlist.com/?page=6', 'http://redditlist.com/?page=7', 'http://redditlist.com/?page=8']\n"
     ]
    }
   ],
   "source": [
    "subreddits = biggest_subreddits(9)\n",
    "subreddits_to_csv(subreddits, 'thousand_biggest_subreddits.csv')"
   ]
  },
  {
   "cell_type": "code",
   "execution_count": 6,
   "metadata": {},
   "outputs": [
    {
     "data": {
      "text/html": [
       "<div>\n",
       "<style scoped>\n",
       "    .dataframe tbody tr th:only-of-type {\n",
       "        vertical-align: middle;\n",
       "    }\n",
       "\n",
       "    .dataframe tbody tr th {\n",
       "        vertical-align: top;\n",
       "    }\n",
       "\n",
       "    .dataframe thead th {\n",
       "        text-align: right;\n",
       "    }\n",
       "</style>\n",
       "<table border=\"1\" class=\"dataframe\">\n",
       "  <thead>\n",
       "    <tr style=\"text-align: right;\">\n",
       "      <th></th>\n",
       "      <th>subreddit</th>\n",
       "    </tr>\n",
       "  </thead>\n",
       "  <tbody>\n",
       "    <tr>\n",
       "      <th>0</th>\n",
       "      <td>funny</td>\n",
       "    </tr>\n",
       "    <tr>\n",
       "      <th>1</th>\n",
       "      <td>AskReddit</td>\n",
       "    </tr>\n",
       "    <tr>\n",
       "      <th>2</th>\n",
       "      <td>pics</td>\n",
       "    </tr>\n",
       "    <tr>\n",
       "      <th>3</th>\n",
       "      <td>gaming</td>\n",
       "    </tr>\n",
       "    <tr>\n",
       "      <th>4</th>\n",
       "      <td>worldnews</td>\n",
       "    </tr>\n",
       "  </tbody>\n",
       "</table>\n",
       "</div>"
      ],
      "text/plain": [
       "   subreddit\n",
       "0      funny\n",
       "1  AskReddit\n",
       "2       pics\n",
       "3     gaming\n",
       "4  worldnews"
      ]
     },
     "execution_count": 6,
     "metadata": {},
     "output_type": "execute_result"
    }
   ],
   "source": [
    "top_thousand_subreddits = pd.read_csv('thousand_biggest_subreddits.csv')\n",
    "top_thousand_subreddits.head()"
   ]
  },
  {
   "cell_type": "code",
   "execution_count": null,
   "metadata": {},
   "outputs": [],
   "source": []
  },
  {
   "cell_type": "code",
   "execution_count": null,
   "metadata": {},
   "outputs": [],
   "source": []
  }
 ],
 "metadata": {
  "kernelspec": {
   "display_name": "Python 3",
   "language": "python",
   "name": "python3"
  },
  "language_info": {
   "codemirror_mode": {
    "name": "ipython",
    "version": 3
   },
   "file_extension": ".py",
   "mimetype": "text/x-python",
   "name": "python",
   "nbconvert_exporter": "python",
   "pygments_lexer": "ipython3",
   "version": "3.7.1"
  }
 },
 "nbformat": 4,
 "nbformat_minor": 2
}
