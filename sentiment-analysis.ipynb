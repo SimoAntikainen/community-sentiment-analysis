{
 "cells": [
  {
   "cell_type": "code",
   "execution_count": 60,
   "metadata": {},
   "outputs": [],
   "source": [
    "import requests\n",
    "from bs4 import BeautifulSoup\n",
    "import csv\n",
    "import pandas as pd\n",
    "import numpy as np\n",
    "import praw\n",
    "import nltk\n",
    "from nltk.sentiment.vader import SentimentIntensityAnalyzer as SIA\n",
    "import seaborn as sns\n",
    "import matplotlib.pyplot as plt"
   ]
  },
  {
   "cell_type": "markdown",
   "metadata": {},
   "source": [
    "## Retrieving largest subreddits by subscriber count"
   ]
  },
  {
   "cell_type": "code",
   "execution_count": 10,
   "metadata": {},
   "outputs": [],
   "source": [
    "def biggest_subreddits(pages=2):\n",
    "    most_subscribed_subreddits=[]\n",
    "    \n",
    "    redditlist_pages = []\n",
    "\n",
    "    for i in range(1, pages):\n",
    "        url = 'http://redditlist.com/?page=' + str(i) + ''\n",
    "        redditlist_pages.append(url)\n",
    "        \n",
    "    for item in redditlist_pages:\n",
    "        \n",
    "        page = requests.get(item)\n",
    "        soup = BeautifulSoup(page.text, 'html.parser')\n",
    "        \n",
    "        subreddits = soup.find_all(class_='listing-item')\n",
    "        \n",
    "        subreddit_names = []\n",
    "\n",
    "        for subreddit in subreddits:\n",
    "            subreddit_names.append(subreddit.attrs['data-target-subreddit'])\n",
    "        \n",
    "        #picks the values from the middle list containing the most subscribers. Not recent activity or Growth (24Hrs) \n",
    "        most_subscribed_subreddits = most_subscribed_subreddits + subreddit_names[125:250]\n",
    "        \n",
    "        \n",
    "    return most_subscribed_subreddits\n",
    "\n",
    "def subreddits_to_csv(subreddits, name):\n",
    "    df = pd.DataFrame(subreddits, columns=[\"subreddit\"])\n",
    "    df.to_csv(name, index=False)    "
   ]
  },
  {
   "cell_type": "code",
   "execution_count": 118,
   "metadata": {},
   "outputs": [],
   "source": [
    "subreddits = biggest_subreddits(9)"
   ]
  },
  {
   "cell_type": "code",
   "execution_count": 357,
   "metadata": {},
   "outputs": [],
   "source": [
    "subreddits_to_csv(subreddits, 'cvs/thousand_biggest_subreddits.csv')"
   ]
  },
  {
   "cell_type": "code",
   "execution_count": 358,
   "metadata": {},
   "outputs": [
    {
     "data": {
      "text/html": [
       "<div>\n",
       "<style scoped>\n",
       "    .dataframe tbody tr th:only-of-type {\n",
       "        vertical-align: middle;\n",
       "    }\n",
       "\n",
       "    .dataframe tbody tr th {\n",
       "        vertical-align: top;\n",
       "    }\n",
       "\n",
       "    .dataframe thead th {\n",
       "        text-align: right;\n",
       "    }\n",
       "</style>\n",
       "<table border=\"1\" class=\"dataframe\">\n",
       "  <thead>\n",
       "    <tr style=\"text-align: right;\">\n",
       "      <th></th>\n",
       "      <th>subreddit</th>\n",
       "    </tr>\n",
       "  </thead>\n",
       "  <tbody>\n",
       "    <tr>\n",
       "      <th>0</th>\n",
       "      <td>funny</td>\n",
       "    </tr>\n",
       "    <tr>\n",
       "      <th>1</th>\n",
       "      <td>AskReddit</td>\n",
       "    </tr>\n",
       "    <tr>\n",
       "      <th>2</th>\n",
       "      <td>gaming</td>\n",
       "    </tr>\n",
       "    <tr>\n",
       "      <th>3</th>\n",
       "      <td>pics</td>\n",
       "    </tr>\n",
       "    <tr>\n",
       "      <th>4</th>\n",
       "      <td>science</td>\n",
       "    </tr>\n",
       "  </tbody>\n",
       "</table>\n",
       "</div>"
      ],
      "text/plain": [
       "   subreddit\n",
       "0      funny\n",
       "1  AskReddit\n",
       "2     gaming\n",
       "3       pics\n",
       "4    science"
      ]
     },
     "execution_count": 358,
     "metadata": {},
     "output_type": "execute_result"
    }
   ],
   "source": [
    "top_thousand_subreddits = pd.read_csv('cvs/thousand_biggest_subreddits.csv')\n",
    "top_thousand_subreddits.head()"
   ]
  },
  {
   "cell_type": "markdown",
   "metadata": {},
   "source": [
    "## Retrieving yearly top posts "
   ]
  },
  {
   "cell_type": "code",
   "execution_count": 153,
   "metadata": {},
   "outputs": [],
   "source": [
    "#private praw api key needed\n",
    "#Alternatively there are csv files with top post and calculated sentiment scores\n",
    "praw_id = pd.read_csv('api_keys.csv')\n",
    "reddit = praw.Reddit(client_id=praw_id.client_id[0], \\\n",
    "                     client_secret=praw_id.client_secret[0], \\\n",
    "                     user_agent=praw_id.user_agent[0], \\\n",
    "                     username=praw_id.username[0], \\\n",
    "                     password=praw_id.password[0])"
   ]
  },
  {
   "cell_type": "code",
   "execution_count": 8,
   "metadata": {},
   "outputs": [],
   "source": [
    "def subreddit_top_posts(subreddit, limit):\n",
    "    subreddit = reddit.subreddit(subreddit)\n",
    "    \n",
    "    submissions = []\n",
    "    \n",
    "    for submission in subreddit.top('year', limit=limit):\n",
    "            submissions.append(submission.title)\n",
    "            \n",
    "    return submissions"
   ]
  },
  {
   "cell_type": "code",
   "execution_count": null,
   "metadata": {},
   "outputs": [],
   "source": [
    "dataisbeautiful = subreddit_top_posts('dataisbeautiful', 500)\n",
    "politics = subreddit_top_posts('politics', 500)\n",
    "aww = subreddit_top_posts('aww', 500)"
   ]
  },
  {
   "cell_type": "code",
   "execution_count": 133,
   "metadata": {},
   "outputs": [
    {
     "name": "stdout",
     "output_type": "stream",
     "text": [
      "Kim Davis, clerk who refused to sign marriage licenses for gay couples, loses to Democrat\n",
      "Ivanka Trump used a personal email account to send hundreds of emails about government business last year\n",
      "F.B.I. Opened Inquiry Into Whether Trump Was Secretly Working on Behalf of Russia\n",
      "McConnell blocks House bill to reopen government for second time\n",
      "Megathread: President Trump Directed His Attorney To Lie To Congress About The Moscow Tower Project\n"
     ]
    }
   ],
   "source": [
    "#5 top posts by user score from the politics subreddit\n",
    "for i in politics[:5]:\n",
    "    print(i)"
   ]
  },
  {
   "cell_type": "markdown",
   "metadata": {},
   "source": [
    "## Calculating Vader sentiment scores for the different subreddits"
   ]
  },
  {
   "cell_type": "code",
   "execution_count": 189,
   "metadata": {},
   "outputs": [],
   "source": [
    "def sentiment_scores(headings):\n",
    "    sia = SIA()\n",
    "    scores = []\n",
    "\n",
    "    for heading in headings:\n",
    "        pol_score = sia.polarity_scores(heading)\n",
    "        pol_score['heading'] = heading\n",
    "        scores.append(pol_score)\n",
    "    \n",
    "    return scores\n",
    "\n",
    "def aggregate_sentiment(scores, name):\n",
    " \n",
    "    compound = scores[['compound']].mean().values[0]\n",
    "    neg = scores[['neg']].mean().values[0]\n",
    "    neu = scores[['neu']].mean().values[0]\n",
    "    pos = scores[['pos']].mean().values[0]\n",
    " \n",
    "    aggregated = {'subreddit' : name,'compound' : compound, 'neg' : neg, 'neu' : neu, 'pos' : pos}\n",
    "    \n",
    "    return aggregated\n"
   ]
  },
  {
   "cell_type": "code",
   "execution_count": 55,
   "metadata": {},
   "outputs": [],
   "source": [
    "dataisbeautiful_sentiment = pd.DataFrame.from_records(sentiment_scores(top_posts))\n",
    "politics_sentiment = pd.DataFrame.from_records(sentiment_scores(politics))\n",
    "aww_sentiment = pd.DataFrame.from_records(sentiment_scores(aww))"
   ]
  },
  {
   "cell_type": "code",
   "execution_count": 362,
   "metadata": {},
   "outputs": [],
   "source": [
    "dataisbeautiful_sentiment.to_csv('cvs/dataisbeautiful_sentiment.csv', index=False)\n",
    "politics_sentiment.to_csv('cvs/politics_sentiment.csv', index=False)\n",
    "aww_sentiment.to_csv('cvs/aww_sentiment.csv', index=False)"
   ]
  },
  {
   "cell_type": "code",
   "execution_count": 365,
   "metadata": {},
   "outputs": [],
   "source": [
    "dataisbeautiful_sentiment = pd.read_csv('cvs/dataisbeautiful_sentiment.csv')\n",
    "politics_sentiment = pd.read_csv('cvs/politics_sentiment.csv')\n",
    "aww_sentiment = pd.read_csv('cvs/aww_sentiment.csv')"
   ]
  },
  {
   "cell_type": "code",
   "execution_count": 367,
   "metadata": {},
   "outputs": [
    {
     "data": {
      "text/html": [
       "<div>\n",
       "<style scoped>\n",
       "    .dataframe tbody tr th:only-of-type {\n",
       "        vertical-align: middle;\n",
       "    }\n",
       "\n",
       "    .dataframe tbody tr th {\n",
       "        vertical-align: top;\n",
       "    }\n",
       "\n",
       "    .dataframe thead th {\n",
       "        text-align: right;\n",
       "    }\n",
       "</style>\n",
       "<table border=\"1\" class=\"dataframe\">\n",
       "  <thead>\n",
       "    <tr style=\"text-align: right;\">\n",
       "      <th></th>\n",
       "      <th>compound</th>\n",
       "      <th>heading</th>\n",
       "      <th>neg</th>\n",
       "      <th>neu</th>\n",
       "      <th>pos</th>\n",
       "    </tr>\n",
       "  </thead>\n",
       "  <tbody>\n",
       "    <tr>\n",
       "      <th>0</th>\n",
       "      <td>-0.5994</td>\n",
       "      <td>Cause of Death - Reality vs. Google vs. Media ...</td>\n",
       "      <td>0.328</td>\n",
       "      <td>0.672</td>\n",
       "      <td>0.000</td>\n",
       "    </tr>\n",
       "    <tr>\n",
       "      <th>1</th>\n",
       "      <td>0.0000</td>\n",
       "      <td>Gaze and foot placement when walking over roug...</td>\n",
       "      <td>0.000</td>\n",
       "      <td>1.000</td>\n",
       "      <td>0.000</td>\n",
       "    </tr>\n",
       "    <tr>\n",
       "      <th>2</th>\n",
       "      <td>0.0000</td>\n",
       "      <td>11 different brands of AA batteries, tested in...</td>\n",
       "      <td>0.000</td>\n",
       "      <td>1.000</td>\n",
       "      <td>0.000</td>\n",
       "    </tr>\n",
       "    <tr>\n",
       "      <th>3</th>\n",
       "      <td>0.3818</td>\n",
       "      <td>The City is Alive: The Population of Manhattan...</td>\n",
       "      <td>0.000</td>\n",
       "      <td>0.776</td>\n",
       "      <td>0.224</td>\n",
       "    </tr>\n",
       "    <tr>\n",
       "      <th>4</th>\n",
       "      <td>0.0000</td>\n",
       "      <td>Average flag colour by latitude [OC]</td>\n",
       "      <td>0.000</td>\n",
       "      <td>1.000</td>\n",
       "      <td>0.000</td>\n",
       "    </tr>\n",
       "  </tbody>\n",
       "</table>\n",
       "</div>"
      ],
      "text/plain": [
       "   compound                                            heading    neg    neu  \\\n",
       "0   -0.5994  Cause of Death - Reality vs. Google vs. Media ...  0.328  0.672   \n",
       "1    0.0000  Gaze and foot placement when walking over roug...  0.000  1.000   \n",
       "2    0.0000  11 different brands of AA batteries, tested in...  0.000  1.000   \n",
       "3    0.3818  The City is Alive: The Population of Manhattan...  0.000  0.776   \n",
       "4    0.0000               Average flag colour by latitude [OC]  0.000  1.000   \n",
       "\n",
       "     pos  \n",
       "0  0.000  \n",
       "1  0.000  \n",
       "2  0.000  \n",
       "3  0.224  \n",
       "4  0.000  "
      ]
     },
     "execution_count": 367,
     "metadata": {},
     "output_type": "execute_result"
    }
   ],
   "source": [
    "dataisbeautiful_sentiment.head()"
   ]
  },
  {
   "cell_type": "code",
   "execution_count": 184,
   "metadata": {},
   "outputs": [
    {
     "data": {
      "text/html": [
       "<div>\n",
       "<style scoped>\n",
       "    .dataframe tbody tr th:only-of-type {\n",
       "        vertical-align: middle;\n",
       "    }\n",
       "\n",
       "    .dataframe tbody tr th {\n",
       "        vertical-align: top;\n",
       "    }\n",
       "\n",
       "    .dataframe thead th {\n",
       "        text-align: right;\n",
       "    }\n",
       "</style>\n",
       "<table border=\"1\" class=\"dataframe\">\n",
       "  <thead>\n",
       "    <tr style=\"text-align: right;\">\n",
       "      <th></th>\n",
       "      <th>compound</th>\n",
       "      <th>heading</th>\n",
       "      <th>neg</th>\n",
       "      <th>neu</th>\n",
       "      <th>pos</th>\n",
       "    </tr>\n",
       "  </thead>\n",
       "  <tbody>\n",
       "    <tr>\n",
       "      <th>0</th>\n",
       "      <td>-0.5423</td>\n",
       "      <td>Kim Davis, clerk who refused to sign marriage ...</td>\n",
       "      <td>0.257</td>\n",
       "      <td>0.743</td>\n",
       "      <td>0.0</td>\n",
       "    </tr>\n",
       "    <tr>\n",
       "      <th>1</th>\n",
       "      <td>0.0000</td>\n",
       "      <td>Ivanka Trump used a personal email account to ...</td>\n",
       "      <td>0.000</td>\n",
       "      <td>1.000</td>\n",
       "      <td>0.0</td>\n",
       "    </tr>\n",
       "    <tr>\n",
       "      <th>2</th>\n",
       "      <td>0.0000</td>\n",
       "      <td>F.B.I. Opened Inquiry Into Whether Trump Was S...</td>\n",
       "      <td>0.000</td>\n",
       "      <td>1.000</td>\n",
       "      <td>0.0</td>\n",
       "    </tr>\n",
       "    <tr>\n",
       "      <th>3</th>\n",
       "      <td>-0.2263</td>\n",
       "      <td>McConnell blocks House bill to reopen governme...</td>\n",
       "      <td>0.174</td>\n",
       "      <td>0.826</td>\n",
       "      <td>0.0</td>\n",
       "    </tr>\n",
       "    <tr>\n",
       "      <th>4</th>\n",
       "      <td>0.0000</td>\n",
       "      <td>Megathread: President Trump Directed His Attor...</td>\n",
       "      <td>0.000</td>\n",
       "      <td>1.000</td>\n",
       "      <td>0.0</td>\n",
       "    </tr>\n",
       "  </tbody>\n",
       "</table>\n",
       "</div>"
      ],
      "text/plain": [
       "   compound                                            heading    neg    neu  \\\n",
       "0   -0.5423  Kim Davis, clerk who refused to sign marriage ...  0.257  0.743   \n",
       "1    0.0000  Ivanka Trump used a personal email account to ...  0.000  1.000   \n",
       "2    0.0000  F.B.I. Opened Inquiry Into Whether Trump Was S...  0.000  1.000   \n",
       "3   -0.2263  McConnell blocks House bill to reopen governme...  0.174  0.826   \n",
       "4    0.0000  Megathread: President Trump Directed His Attor...  0.000  1.000   \n",
       "\n",
       "   pos  \n",
       "0  0.0  \n",
       "1  0.0  \n",
       "2  0.0  \n",
       "3  0.0  \n",
       "4  0.0  "
      ]
     },
     "execution_count": 184,
     "metadata": {},
     "output_type": "execute_result"
    }
   ],
   "source": [
    "politics_sentiment.head()"
   ]
  },
  {
   "cell_type": "code",
   "execution_count": 366,
   "metadata": {},
   "outputs": [
    {
     "data": {
      "text/html": [
       "<div>\n",
       "<style scoped>\n",
       "    .dataframe tbody tr th:only-of-type {\n",
       "        vertical-align: middle;\n",
       "    }\n",
       "\n",
       "    .dataframe tbody tr th {\n",
       "        vertical-align: top;\n",
       "    }\n",
       "\n",
       "    .dataframe thead th {\n",
       "        text-align: right;\n",
       "    }\n",
       "</style>\n",
       "<table border=\"1\" class=\"dataframe\">\n",
       "  <thead>\n",
       "    <tr style=\"text-align: right;\">\n",
       "      <th></th>\n",
       "      <th>compound</th>\n",
       "      <th>heading</th>\n",
       "      <th>neg</th>\n",
       "      <th>neu</th>\n",
       "      <th>pos</th>\n",
       "    </tr>\n",
       "  </thead>\n",
       "  <tbody>\n",
       "    <tr>\n",
       "      <th>0</th>\n",
       "      <td>0.0000</td>\n",
       "      <td>Heat index was 110 degrees so we offered him a...</td>\n",
       "      <td>0.000</td>\n",
       "      <td>1.000</td>\n",
       "      <td>0.000</td>\n",
       "    </tr>\n",
       "    <tr>\n",
       "      <th>1</th>\n",
       "      <td>0.6249</td>\n",
       "      <td>Kirk, a female Border Collie, watching herself...</td>\n",
       "      <td>0.000</td>\n",
       "      <td>0.662</td>\n",
       "      <td>0.338</td>\n",
       "    </tr>\n",
       "    <tr>\n",
       "      <th>2</th>\n",
       "      <td>0.2235</td>\n",
       "      <td>Nothing will stop this dog from protecting his...</td>\n",
       "      <td>0.000</td>\n",
       "      <td>0.809</td>\n",
       "      <td>0.191</td>\n",
       "    </tr>\n",
       "    <tr>\n",
       "      <th>3</th>\n",
       "      <td>0.4532</td>\n",
       "      <td>My 90yo neighbor hasn’t walked her dog in year...</td>\n",
       "      <td>0.087</td>\n",
       "      <td>0.753</td>\n",
       "      <td>0.161</td>\n",
       "    </tr>\n",
       "    <tr>\n",
       "      <th>4</th>\n",
       "      <td>0.4588</td>\n",
       "      <td>His favorite spot when traveling.</td>\n",
       "      <td>0.000</td>\n",
       "      <td>0.571</td>\n",
       "      <td>0.429</td>\n",
       "    </tr>\n",
       "  </tbody>\n",
       "</table>\n",
       "</div>"
      ],
      "text/plain": [
       "   compound                                            heading    neg    neu  \\\n",
       "0    0.0000  Heat index was 110 degrees so we offered him a...  0.000  1.000   \n",
       "1    0.6249  Kirk, a female Border Collie, watching herself...  0.000  0.662   \n",
       "2    0.2235  Nothing will stop this dog from protecting his...  0.000  0.809   \n",
       "3    0.4532  My 90yo neighbor hasn’t walked her dog in year...  0.087  0.753   \n",
       "4    0.4588                  His favorite spot when traveling.  0.000  0.571   \n",
       "\n",
       "     pos  \n",
       "0  0.000  \n",
       "1  0.338  \n",
       "2  0.191  \n",
       "3  0.161  \n",
       "4  0.429  "
      ]
     },
     "execution_count": 366,
     "metadata": {},
     "output_type": "execute_result"
    }
   ],
   "source": [
    "aww_sentiment.head()"
   ]
  },
  {
   "cell_type": "code",
   "execution_count": 190,
   "metadata": {},
   "outputs": [
    {
     "data": {
      "text/plain": [
       "{'subreddit': 'politics',\n",
       " 'compound': -0.0655532,\n",
       " 'neg': 0.11278999999999999,\n",
       " 'neu': 0.807578,\n",
       " 'pos': 0.07962800000000002}"
      ]
     },
     "execution_count": 190,
     "metadata": {},
     "output_type": "execute_result"
    }
   ],
   "source": [
    "aggregate_sentiment(politics_sentiment, 'politics')"
   ]
  },
  {
   "cell_type": "markdown",
   "metadata": {},
   "source": [
    "## Visualizing sentiment scores of individual subreddits"
   ]
  },
  {
   "cell_type": "code",
   "execution_count": 346,
   "metadata": {},
   "outputs": [
    {
     "data": {
      "text/plain": [
       "Text(0.5, 0.98, 'Compound sentiment score')"
      ]
     },
     "execution_count": 346,
     "metadata": {},
     "output_type": "execute_result"
    },
    {
     "data": {
      "image/png": "[encoded data removed]",
      "text/plain": [
       "<Figure size 1440x504 with 3 Axes>"
      ]
     },
     "metadata": {
      "needs_background": "light"
     },
     "output_type": "display_data"
    }
   ],
   "source": [
    "fig, axs = plt.subplots(ncols=3,figsize=(20,7))\n",
    "\n",
    "sns.distplot(a=tuple(dataisbeautiful_sentiment['compound']),kde=False, rug=False, ax=axs[0]).set_title('dataisbeautiful')\n",
    "sns.distplot(a=tuple(politics_sentiment['compound']), kde=False, rug=False, ax=axs[1]).set_title('politics')\n",
    "sns.distplot(a=tuple(aww_sentiment['compound']), kde=False, rug=False, ax=axs[2]).set_title('aww (cute animals)')\n",
    "\n",
    "fig.suptitle('Compound sentiment score', fontsize=24)"
   ]
  },
  {
   "cell_type": "code",
   "execution_count": 347,
   "metadata": {},
   "outputs": [],
   "source": [
    "fig.savefig('pics/Compound sentiment score') "
   ]
  },
  {
   "cell_type": "code",
   "execution_count": 348,
   "metadata": {},
   "outputs": [
    {
     "data": {
      "text/plain": [
       "Text(0.5, 0.98, 'Negative sentiment score')"
      ]
     },
     "execution_count": 348,
     "metadata": {},
     "output_type": "execute_result"
    },
    {
     "data": {
      "image/png": "[encoded data removed]",
      "text/plain": [
       "<Figure size 1440x504 with 3 Axes>"
      ]
     },
     "metadata": {
      "needs_background": "light"
     },
     "output_type": "display_data"
    }
   ],
   "source": [
    "fig, axs = plt.subplots(ncols=3,figsize=(20,7))\n",
    "\n",
    "sns.distplot(a=tuple(dataisbeautiful_sentiment['neg']), kde=False, rug=False, ax=axs[0]).set_title('dataisbeautiful')\n",
    "sns.distplot(a=tuple(politics_sentiment['neg']), kde=False, rug=False, ax=axs[1]).set_title('politics')\n",
    "sns.distplot(a=tuple(aww_sentiment['neg']), kde=False, rug=False, ax=axs[2]).set_title('aww (cute animals)')\n",
    "\n",
    "fig.suptitle('Negative sentiment score', fontsize=24)"
   ]
  },
  {
   "cell_type": "code",
   "execution_count": 349,
   "metadata": {},
   "outputs": [],
   "source": [
    "fig.savefig('pics/Negative sentiment score') "
   ]
  },
  {
   "cell_type": "code",
   "execution_count": 350,
   "metadata": {},
   "outputs": [
    {
     "data": {
      "text/plain": [
       "Text(0.5, 0.98, 'Positive sentiment score')"
      ]
     },
     "execution_count": 350,
     "metadata": {},
     "output_type": "execute_result"
    },
    {
     "data": {
      "image/png": "[encoded data removed]",
      "text/plain": [
       "<Figure size 1440x504 with 3 Axes>"
      ]
     },
     "metadata": {
      "needs_background": "light"
     },
     "output_type": "display_data"
    }
   ],
   "source": [
    "fig, axs = plt.subplots(ncols=3,figsize=(20,7))\n",
    "\n",
    "sns.distplot(a=tuple(dataisbeautiful_sentiment['pos']), kde=False, rug=False, ax=axs[0]).set_title('dataisbeautiful')\n",
    "sns.distplot(a=tuple(politics_sentiment['pos']), kde=False, rug=False, ax=axs[1]).set_title('politics')\n",
    "sns.distplot(a=tuple(aww_sentiment['pos']), kde=False, rug=False, ax=axs[2]).set_title('aww (cute animals)')\n",
    "\n",
    "fig.suptitle('Positive sentiment score', fontsize=24)"
   ]
  },
  {
   "cell_type": "code",
   "execution_count": 351,
   "metadata": {},
   "outputs": [],
   "source": [
    "fig.savefig('pics/Positive sentiment score') "
   ]
  },
  {
   "cell_type": "code",
   "execution_count": 352,
   "metadata": {},
   "outputs": [
    {
     "data": {
      "text/plain": [
       "Text(0.5, 0.98, 'Neutral sentiment score')"
      ]
     },
     "execution_count": 352,
     "metadata": {},
     "output_type": "execute_result"
    },
    {
     "data": {
      "image/png": "[encoded data removed]",
      "text/plain": [
       "<Figure size 1440x504 with 3 Axes>"
      ]
     },
     "metadata": {
      "needs_background": "light"
     },
     "output_type": "display_data"
    }
   ],
   "source": [
    "fig, axs = plt.subplots(ncols=3,figsize=(20,7))\n",
    "\n",
    "sns.distplot(a=tuple(dataisbeautiful_sentiment['neu']), kde=False, rug=False, ax=axs[0]).set_title('dataisbeautiful')\n",
    "sns.distplot(a=tuple(politics_sentiment['neu']), kde=False, rug=False, ax=axs[1]).set_title('politics')\n",
    "sns.distplot(a=tuple(aww_sentiment['neu']), kde=False, rug=False, ax=axs[2]).set_title('aww (cute animals)')\n",
    "\n",
    "fig.suptitle('Neutral sentiment score', fontsize=24)"
   ]
  },
  {
   "cell_type": "code",
   "execution_count": 353,
   "metadata": {},
   "outputs": [],
   "source": [
    "fig.savefig('pics/Neutral sentiment score') "
   ]
  },
  {
   "cell_type": "markdown",
   "metadata": {},
   "source": [
    "## Visualizing aggregate sentiments of different subreddits"
   ]
  },
  {
   "cell_type": "code",
   "execution_count": 246,
   "metadata": {},
   "outputs": [],
   "source": [
    "def subreddit_mean_sentiments(subreddits):\n",
    "    aggregates = []\n",
    "    \n",
    "    for subreddit in subreddits.values:\n",
    "        \n",
    "        top_posts = subreddit_top_posts(subreddit[0], 500)\n",
    "        sentiment = pd.DataFrame.from_records(sentiment_scores(top_posts))\n",
    "        aggregate = aggregate_sentiment(sentiment,subreddit[0])\n",
    "        aggregates.append(aggregate)\n",
    "        \n",
    "    return pd.DataFrame(aggregates)"
   ]
  },
  {
   "cell_type": "code",
   "execution_count": 247,
   "metadata": {},
   "outputs": [],
   "source": [
    "#Running this takes several hours, because of the praw rate limits\n",
    "mean_subreddit_sentiments = subreddit_mean_sentiments(top_thousand_subreddits)"
   ]
  },
  {
   "cell_type": "code",
   "execution_count": 354,
   "metadata": {},
   "outputs": [],
   "source": [
    "mean_subreddit_sentiments.to_csv('cvs/thousand_mean_subreddit_sentiments.csv',index =False)"
   ]
  },
  {
   "cell_type": "code",
   "execution_count": 355,
   "metadata": {},
   "outputs": [],
   "source": [
    "mean_subreddit_sentiments = pd.read_csv('cvs/thousand_mean_subreddit_sentiments.csv')"
   ]
  },
  {
   "cell_type": "code",
   "execution_count": 356,
   "metadata": {},
   "outputs": [
    {
     "data": {
      "text/html": [
       "<div>\n",
       "<style scoped>\n",
       "    .dataframe tbody tr th:only-of-type {\n",
       "        vertical-align: middle;\n",
       "    }\n",
       "\n",
       "    .dataframe tbody tr th {\n",
       "        vertical-align: top;\n",
       "    }\n",
       "\n",
       "    .dataframe thead th {\n",
       "        text-align: right;\n",
       "    }\n",
       "</style>\n",
       "<table border=\"1\" class=\"dataframe\">\n",
       "  <thead>\n",
       "    <tr style=\"text-align: right;\">\n",
       "      <th></th>\n",
       "      <th>compound</th>\n",
       "      <th>neg</th>\n",
       "      <th>neu</th>\n",
       "      <th>pos</th>\n",
       "      <th>subreddit</th>\n",
       "    </tr>\n",
       "  </thead>\n",
       "  <tbody>\n",
       "    <tr>\n",
       "      <th>0</th>\n",
       "      <td>0.079486</td>\n",
       "      <td>0.068602</td>\n",
       "      <td>0.801888</td>\n",
       "      <td>0.129510</td>\n",
       "      <td>funny</td>\n",
       "    </tr>\n",
       "    <tr>\n",
       "      <th>1</th>\n",
       "      <td>-0.013991</td>\n",
       "      <td>0.091866</td>\n",
       "      <td>0.821678</td>\n",
       "      <td>0.086442</td>\n",
       "      <td>AskReddit</td>\n",
       "    </tr>\n",
       "    <tr>\n",
       "      <th>2</th>\n",
       "      <td>0.080499</td>\n",
       "      <td>0.074014</td>\n",
       "      <td>0.811676</td>\n",
       "      <td>0.110308</td>\n",
       "      <td>gaming</td>\n",
       "    </tr>\n",
       "    <tr>\n",
       "      <th>3</th>\n",
       "      <td>0.094301</td>\n",
       "      <td>0.059944</td>\n",
       "      <td>0.837336</td>\n",
       "      <td>0.102718</td>\n",
       "      <td>pics</td>\n",
       "    </tr>\n",
       "    <tr>\n",
       "      <th>4</th>\n",
       "      <td>0.051336</td>\n",
       "      <td>0.085366</td>\n",
       "      <td>0.820348</td>\n",
       "      <td>0.094316</td>\n",
       "      <td>science</td>\n",
       "    </tr>\n",
       "  </tbody>\n",
       "</table>\n",
       "</div>"
      ],
      "text/plain": [
       "   compound       neg       neu       pos  subreddit\n",
       "0  0.079486  0.068602  0.801888  0.129510      funny\n",
       "1 -0.013991  0.091866  0.821678  0.086442  AskReddit\n",
       "2  0.080499  0.074014  0.811676  0.110308     gaming\n",
       "3  0.094301  0.059944  0.837336  0.102718       pics\n",
       "4  0.051336  0.085366  0.820348  0.094316    science"
      ]
     },
     "execution_count": 356,
     "metadata": {},
     "output_type": "execute_result"
    }
   ],
   "source": [
    "mean_subreddit_sentiments.head()\n"
   ]
  },
  {
   "cell_type": "code",
   "execution_count": 275,
   "metadata": {},
   "outputs": [],
   "source": [
    "most_positive = mean_subreddit_sentiments.sort_values(by=['pos'])\n",
    "most_negative = mean_subreddit_sentiments.sort_values(by=['neg'])\n",
    "most_neutral = mean_subreddit_sentiments.sort_values(by=['neu'])\n",
    "compound_sentiment = mean_subreddit_sentiments.sort_values(by=['compound'])"
   ]
  },
  {
   "cell_type": "code",
   "execution_count": 279,
   "metadata": {},
   "outputs": [
    {
     "data": {
      "text/html": [
       "<div>\n",
       "<style scoped>\n",
       "    .dataframe tbody tr th:only-of-type {\n",
       "        vertical-align: middle;\n",
       "    }\n",
       "\n",
       "    .dataframe tbody tr th {\n",
       "        vertical-align: top;\n",
       "    }\n",
       "\n",
       "    .dataframe thead th {\n",
       "        text-align: right;\n",
       "    }\n",
       "</style>\n",
       "<table border=\"1\" class=\"dataframe\">\n",
       "  <thead>\n",
       "    <tr style=\"text-align: right;\">\n",
       "      <th></th>\n",
       "      <th>compound</th>\n",
       "      <th>neg</th>\n",
       "      <th>neu</th>\n",
       "      <th>pos</th>\n",
       "      <th>subreddit</th>\n",
       "    </tr>\n",
       "  </thead>\n",
       "  <tbody>\n",
       "    <tr>\n",
       "      <th>77</th>\n",
       "      <td>0.222098</td>\n",
       "      <td>0.042534</td>\n",
       "      <td>0.714276</td>\n",
       "      <td>0.243192</td>\n",
       "      <td>AnimalsBeingBros</td>\n",
       "    </tr>\n",
       "    <tr>\n",
       "      <th>884</th>\n",
       "      <td>0.151292</td>\n",
       "      <td>0.038140</td>\n",
       "      <td>0.715484</td>\n",
       "      <td>0.244378</td>\n",
       "      <td>realasians</td>\n",
       "    </tr>\n",
       "    <tr>\n",
       "      <th>687</th>\n",
       "      <td>0.238638</td>\n",
       "      <td>0.039572</td>\n",
       "      <td>0.704762</td>\n",
       "      <td>0.255662</td>\n",
       "      <td>wholesomebpt</td>\n",
       "    </tr>\n",
       "    <tr>\n",
       "      <th>981</th>\n",
       "      <td>0.332553</td>\n",
       "      <td>0.014860</td>\n",
       "      <td>0.669098</td>\n",
       "      <td>0.314040</td>\n",
       "      <td>happycowgifs</td>\n",
       "    </tr>\n",
       "    <tr>\n",
       "      <th>278</th>\n",
       "      <td>0.500063</td>\n",
       "      <td>0.011062</td>\n",
       "      <td>0.672974</td>\n",
       "      <td>0.315954</td>\n",
       "      <td>freebies</td>\n",
       "    </tr>\n",
       "  </tbody>\n",
       "</table>\n",
       "</div>"
      ],
      "text/plain": [
       "     compound       neg       neu       pos         subreddit\n",
       "77   0.222098  0.042534  0.714276  0.243192  AnimalsBeingBros\n",
       "884  0.151292  0.038140  0.715484  0.244378        realasians\n",
       "687  0.238638  0.039572  0.704762  0.255662      wholesomebpt\n",
       "981  0.332553  0.014860  0.669098  0.314040      happycowgifs\n",
       "278  0.500063  0.011062  0.672974  0.315954          freebies"
      ]
     },
     "execution_count": 279,
     "metadata": {},
     "output_type": "execute_result"
    }
   ],
   "source": [
    "most_positive.tail()"
   ]
  },
  {
   "cell_type": "code",
   "execution_count": 280,
   "metadata": {},
   "outputs": [
    {
     "data": {
      "text/html": [
       "<div>\n",
       "<style scoped>\n",
       "    .dataframe tbody tr th:only-of-type {\n",
       "        vertical-align: middle;\n",
       "    }\n",
       "\n",
       "    .dataframe tbody tr th {\n",
       "        vertical-align: top;\n",
       "    }\n",
       "\n",
       "    .dataframe thead th {\n",
       "        text-align: right;\n",
       "    }\n",
       "</style>\n",
       "<table border=\"1\" class=\"dataframe\">\n",
       "  <thead>\n",
       "    <tr style=\"text-align: right;\">\n",
       "      <th></th>\n",
       "      <th>compound</th>\n",
       "      <th>neg</th>\n",
       "      <th>neu</th>\n",
       "      <th>pos</th>\n",
       "      <th>subreddit</th>\n",
       "    </tr>\n",
       "  </thead>\n",
       "  <tbody>\n",
       "    <tr>\n",
       "      <th>442</th>\n",
       "      <td>-0.208640</td>\n",
       "      <td>0.221178</td>\n",
       "      <td>0.658766</td>\n",
       "      <td>0.120032</td>\n",
       "      <td>depression</td>\n",
       "    </tr>\n",
       "    <tr>\n",
       "      <th>307</th>\n",
       "      <td>-0.248469</td>\n",
       "      <td>0.239139</td>\n",
       "      <td>0.680565</td>\n",
       "      <td>0.080313</td>\n",
       "      <td>JusticePorn</td>\n",
       "    </tr>\n",
       "    <tr>\n",
       "      <th>537</th>\n",
       "      <td>-0.429871</td>\n",
       "      <td>0.242382</td>\n",
       "      <td>0.715482</td>\n",
       "      <td>0.042162</td>\n",
       "      <td>rage</td>\n",
       "    </tr>\n",
       "    <tr>\n",
       "      <th>341</th>\n",
       "      <td>-0.181880</td>\n",
       "      <td>0.247986</td>\n",
       "      <td>0.694862</td>\n",
       "      <td>0.057146</td>\n",
       "      <td>IdiotsFightingThings</td>\n",
       "    </tr>\n",
       "    <tr>\n",
       "      <th>183</th>\n",
       "      <td>-0.364785</td>\n",
       "      <td>0.322644</td>\n",
       "      <td>0.613826</td>\n",
       "      <td>0.063540</td>\n",
       "      <td>PeopleFuckingDying</td>\n",
       "    </tr>\n",
       "  </tbody>\n",
       "</table>\n",
       "</div>"
      ],
      "text/plain": [
       "     compound       neg       neu       pos             subreddit\n",
       "442 -0.208640  0.221178  0.658766  0.120032            depression\n",
       "307 -0.248469  0.239139  0.680565  0.080313           JusticePorn\n",
       "537 -0.429871  0.242382  0.715482  0.042162                  rage\n",
       "341 -0.181880  0.247986  0.694862  0.057146  IdiotsFightingThings\n",
       "183 -0.364785  0.322644  0.613826  0.063540    PeopleFuckingDying"
      ]
     },
     "execution_count": 280,
     "metadata": {},
     "output_type": "execute_result"
    }
   ],
   "source": [
    "most_negative.tail()"
   ]
  },
  {
   "cell_type": "markdown",
   "metadata": {},
   "source": [
    "Headings are named the same in the most neutral subreddits e.g me_irl heading are always of the form me_irl. These have neutral sentiment score."
   ]
  },
  {
   "cell_type": "code",
   "execution_count": 282,
   "metadata": {},
   "outputs": [
    {
     "data": {
      "text/html": [
       "<div>\n",
       "<style scoped>\n",
       "    .dataframe tbody tr th:only-of-type {\n",
       "        vertical-align: middle;\n",
       "    }\n",
       "\n",
       "    .dataframe tbody tr th {\n",
       "        vertical-align: top;\n",
       "    }\n",
       "\n",
       "    .dataframe thead th {\n",
       "        text-align: right;\n",
       "    }\n",
       "</style>\n",
       "<table border=\"1\" class=\"dataframe\">\n",
       "  <thead>\n",
       "    <tr style=\"text-align: right;\">\n",
       "      <th></th>\n",
       "      <th>compound</th>\n",
       "      <th>neg</th>\n",
       "      <th>neu</th>\n",
       "      <th>pos</th>\n",
       "      <th>subreddit</th>\n",
       "    </tr>\n",
       "  </thead>\n",
       "  <tbody>\n",
       "    <tr>\n",
       "      <th>511</th>\n",
       "      <td>0.0</td>\n",
       "      <td>0.0</td>\n",
       "      <td>1.0</td>\n",
       "      <td>0.0</td>\n",
       "      <td>CatsStandingUp</td>\n",
       "    </tr>\n",
       "    <tr>\n",
       "      <th>68</th>\n",
       "      <td>0.0</td>\n",
       "      <td>0.0</td>\n",
       "      <td>1.0</td>\n",
       "      <td>0.0</td>\n",
       "      <td>me_irl</td>\n",
       "    </tr>\n",
       "    <tr>\n",
       "      <th>298</th>\n",
       "      <td>0.0</td>\n",
       "      <td>0.0</td>\n",
       "      <td>1.0</td>\n",
       "      <td>0.0</td>\n",
       "      <td>meirl</td>\n",
       "    </tr>\n",
       "    <tr>\n",
       "      <th>548</th>\n",
       "      <td>0.0</td>\n",
       "      <td>0.0</td>\n",
       "      <td>1.0</td>\n",
       "      <td>0.0</td>\n",
       "      <td>anime_irl</td>\n",
       "    </tr>\n",
       "    <tr>\n",
       "      <th>720</th>\n",
       "      <td>0.0</td>\n",
       "      <td>0.0</td>\n",
       "      <td>1.0</td>\n",
       "      <td>0.0</td>\n",
       "      <td>MEOW_IRL</td>\n",
       "    </tr>\n",
       "  </tbody>\n",
       "</table>\n",
       "</div>"
      ],
      "text/plain": [
       "     compound  neg  neu  pos       subreddit\n",
       "511       0.0  0.0  1.0  0.0  CatsStandingUp\n",
       "68        0.0  0.0  1.0  0.0          me_irl\n",
       "298       0.0  0.0  1.0  0.0           meirl\n",
       "548       0.0  0.0  1.0  0.0       anime_irl\n",
       "720       0.0  0.0  1.0  0.0        MEOW_IRL"
      ]
     },
     "execution_count": 282,
     "metadata": {},
     "output_type": "execute_result"
    }
   ],
   "source": [
    "most_neutral.tail()"
   ]
  },
  {
   "cell_type": "markdown",
   "metadata": {},
   "source": [
    "With compound sentiment we get an reliable ordering of subreddits from the most negative to the most positive "
   ]
  },
  {
   "cell_type": "code",
   "execution_count": 284,
   "metadata": {},
   "outputs": [
    {
     "data": {
      "text/html": [
       "<div>\n",
       "<style scoped>\n",
       "    .dataframe tbody tr th:only-of-type {\n",
       "        vertical-align: middle;\n",
       "    }\n",
       "\n",
       "    .dataframe tbody tr th {\n",
       "        vertical-align: top;\n",
       "    }\n",
       "\n",
       "    .dataframe thead th {\n",
       "        text-align: right;\n",
       "    }\n",
       "</style>\n",
       "<table border=\"1\" class=\"dataframe\">\n",
       "  <thead>\n",
       "    <tr style=\"text-align: right;\">\n",
       "      <th></th>\n",
       "      <th>compound</th>\n",
       "      <th>neg</th>\n",
       "      <th>neu</th>\n",
       "      <th>pos</th>\n",
       "      <th>subreddit</th>\n",
       "    </tr>\n",
       "  </thead>\n",
       "  <tbody>\n",
       "    <tr>\n",
       "      <th>537</th>\n",
       "      <td>-0.429871</td>\n",
       "      <td>0.242382</td>\n",
       "      <td>0.715482</td>\n",
       "      <td>0.042162</td>\n",
       "      <td>rage</td>\n",
       "    </tr>\n",
       "    <tr>\n",
       "      <th>900</th>\n",
       "      <td>-0.414722</td>\n",
       "      <td>0.216234</td>\n",
       "      <td>0.735846</td>\n",
       "      <td>0.047916</td>\n",
       "      <td>Bad_Cop_No_Donut</td>\n",
       "    </tr>\n",
       "    <tr>\n",
       "      <th>183</th>\n",
       "      <td>-0.364785</td>\n",
       "      <td>0.322644</td>\n",
       "      <td>0.613826</td>\n",
       "      <td>0.063540</td>\n",
       "      <td>PeopleFuckingDying</td>\n",
       "    </tr>\n",
       "    <tr>\n",
       "      <th>276</th>\n",
       "      <td>-0.298957</td>\n",
       "      <td>0.171728</td>\n",
       "      <td>0.778298</td>\n",
       "      <td>0.049952</td>\n",
       "      <td>UnresolvedMysteries</td>\n",
       "    </tr>\n",
       "    <tr>\n",
       "      <th>242</th>\n",
       "      <td>-0.260448</td>\n",
       "      <td>0.194360</td>\n",
       "      <td>0.781208</td>\n",
       "      <td>0.024434</td>\n",
       "      <td>AbandonedPorn</td>\n",
       "    </tr>\n",
       "  </tbody>\n",
       "</table>\n",
       "</div>"
      ],
      "text/plain": [
       "     compound       neg       neu       pos            subreddit\n",
       "537 -0.429871  0.242382  0.715482  0.042162                 rage\n",
       "900 -0.414722  0.216234  0.735846  0.047916     Bad_Cop_No_Donut\n",
       "183 -0.364785  0.322644  0.613826  0.063540   PeopleFuckingDying\n",
       "276 -0.298957  0.171728  0.778298  0.049952  UnresolvedMysteries\n",
       "242 -0.260448  0.194360  0.781208  0.024434        AbandonedPorn"
      ]
     },
     "execution_count": 284,
     "metadata": {},
     "output_type": "execute_result"
    }
   ],
   "source": [
    "compound_sentiment.head()"
   ]
  },
  {
   "cell_type": "code",
   "execution_count": 285,
   "metadata": {},
   "outputs": [
    {
     "data": {
      "text/html": [
       "<div>\n",
       "<style scoped>\n",
       "    .dataframe tbody tr th:only-of-type {\n",
       "        vertical-align: middle;\n",
       "    }\n",
       "\n",
       "    .dataframe tbody tr th {\n",
       "        vertical-align: top;\n",
       "    }\n",
       "\n",
       "    .dataframe thead th {\n",
       "        text-align: right;\n",
       "    }\n",
       "</style>\n",
       "<table border=\"1\" class=\"dataframe\">\n",
       "  <thead>\n",
       "    <tr style=\"text-align: right;\">\n",
       "      <th></th>\n",
       "      <th>compound</th>\n",
       "      <th>neg</th>\n",
       "      <th>neu</th>\n",
       "      <th>pos</th>\n",
       "      <th>subreddit</th>\n",
       "    </tr>\n",
       "  </thead>\n",
       "  <tbody>\n",
       "    <tr>\n",
       "      <th>680</th>\n",
       "      <td>0.298450</td>\n",
       "      <td>0.035180</td>\n",
       "      <td>0.774340</td>\n",
       "      <td>0.190488</td>\n",
       "      <td>dogpictures</td>\n",
       "    </tr>\n",
       "    <tr>\n",
       "      <th>981</th>\n",
       "      <td>0.332553</td>\n",
       "      <td>0.014860</td>\n",
       "      <td>0.669098</td>\n",
       "      <td>0.314040</td>\n",
       "      <td>happycowgifs</td>\n",
       "    </tr>\n",
       "    <tr>\n",
       "      <th>573</th>\n",
       "      <td>0.406991</td>\n",
       "      <td>0.060752</td>\n",
       "      <td>0.744506</td>\n",
       "      <td>0.194744</td>\n",
       "      <td>happy</td>\n",
       "    </tr>\n",
       "    <tr>\n",
       "      <th>387</th>\n",
       "      <td>0.488860</td>\n",
       "      <td>0.012886</td>\n",
       "      <td>0.747646</td>\n",
       "      <td>0.239464</td>\n",
       "      <td>redditgetsdrawn</td>\n",
       "    </tr>\n",
       "    <tr>\n",
       "      <th>278</th>\n",
       "      <td>0.500063</td>\n",
       "      <td>0.011062</td>\n",
       "      <td>0.672974</td>\n",
       "      <td>0.315954</td>\n",
       "      <td>freebies</td>\n",
       "    </tr>\n",
       "  </tbody>\n",
       "</table>\n",
       "</div>"
      ],
      "text/plain": [
       "     compound       neg       neu       pos        subreddit\n",
       "680  0.298450  0.035180  0.774340  0.190488      dogpictures\n",
       "981  0.332553  0.014860  0.669098  0.314040     happycowgifs\n",
       "573  0.406991  0.060752  0.744506  0.194744            happy\n",
       "387  0.488860  0.012886  0.747646  0.239464  redditgetsdrawn\n",
       "278  0.500063  0.011062  0.672974  0.315954         freebies"
      ]
     },
     "execution_count": 285,
     "metadata": {},
     "output_type": "execute_result"
    }
   ],
   "source": [
    "compound_sentiment.tail()"
   ]
  },
  {
   "cell_type": "markdown",
   "metadata": {},
   "source": [
    "We can see that the compound score follows a normal distribution with a small variance"
   ]
  },
  {
   "cell_type": "code",
   "execution_count": 316,
   "metadata": {},
   "outputs": [],
   "source": [
    "mean = np.mean(compound_sentiment['compound'])\n",
    "variance = np.var(compound_sentiment['compound'])"
   ]
  },
  {
   "cell_type": "code",
   "execution_count": 317,
   "metadata": {},
   "outputs": [
    {
     "name": "stdout",
     "output_type": "stream",
     "text": [
      "Mean: 0.05126747931438117 Variance: 0.008860905057674425\n"
     ]
    }
   ],
   "source": [
    "print(\"Mean: \" + str(mean) + \" Variance: \" + str(variance) + \"\")"
   ]
  },
  {
   "cell_type": "code",
   "execution_count": 320,
   "metadata": {},
   "outputs": [
    {
     "data": {
      "text/plain": [
       "Text(0, 0.5, 'frequency')"
      ]
     },
     "execution_count": 320,
     "metadata": {},
     "output_type": "execute_result"
    },
    {
     "data": {
      "image/png": "[encoded data removed]",
      "text/plain": [
       "<Figure size 720x504 with 2 Axes>"
      ]
     },
     "metadata": {
      "needs_background": "light"
     },
     "output_type": "display_data"
    }
   ],
   "source": [
    "title = 'Compound sentiment score of 1000 largest subreddits'\n",
    "fig, ax = plt.subplots(figsize=(10,7))\n",
    "\n",
    "sns.distplot(a=tuple(compound_sentiment['compound']), kde=False, rug=True).set_title(title)\n",
    "ax2 = ax.twinx()\n",
    "sns.boxplot(x=compound_sentiment['compound'], ax=ax2)\n",
    "ax2.set(ylim=(-5, 5))\n",
    "\n",
    "ax.set_xlabel('sentiment score')\n",
    "ax.set_ylabel('frequency')"
   ]
  },
  {
   "cell_type": "code",
   "execution_count": 345,
   "metadata": {},
   "outputs": [],
   "source": [
    "ax.get_figure().savefig('pics/Compound sentiment score of 1000 largest subreddits') "
   ]
  }
 ],
 "metadata": {
  "kernelspec": {
   "display_name": "Python 3",
   "language": "python",
   "name": "python3"
  },
  "language_info": {
   "codemirror_mode": {
    "name": "ipython",
    "version": 3
   },
   "file_extension": ".py",
   "mimetype": "text/x-python",
   "name": "python",
   "nbconvert_exporter": "python",
   "pygments_lexer": "ipython3",
   "version": "3.7.1"
  }
 },
 "nbformat": 4,
 "nbformat_minor": 2
}
